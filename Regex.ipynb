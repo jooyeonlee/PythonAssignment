{
 "cells": [
  {
   "cell_type": "markdown",
   "id": "004c36ab",
   "metadata": {},
   "source": [
    "### Regex project\n",
    "\n",
    "Use python to read the file regex_test.txt and print the last name on each line using regular expressions and groups (return None for names with no first and last name, or names that aren't properly capitalized)\n",
    "##### Hint: use with open() and readlines()"
   ]
  },
  {
   "cell_type": "code",
   "execution_count": 2,
   "id": "ca754f38",
   "metadata": {},
   "outputs": [
    {
     "name": "stdout",
     "output_type": "stream",
     "text": [
      "Abraham Lincoln \n",
      "Andrew P Garfield\n",
      "Connor Milliken \n",
      "Jordan Alexander Williams\n",
      "None\n",
      "None\n"
     ]
    }
   ],
   "source": [
    "import re\n",
    "\"\"\"\n",
    "Expected Output\n",
    "Abraham Lincoln\n",
    "Andrew P Garfield\n",
    "Connor Milliken\n",
    "Jordan Alexander Williams\n",
    "None\n",
    "None\n",
    "\"\"\"\n",
    "with open('regex_test.txt') as f:\n",
    "    data = f.readlines()\n",
    "\n",
    "for person in data:\n",
    "    match = re.match('(^[A-Z][a-z]+)\\s([A-Z][a-z]*)\\s([A-Z]?[a-z]*)', person)\n",
    "    if match:\n",
    "        print(f'{match.group(1)} {match.group(2)} {match.group(3)}')\n",
    "    else:\n",
    "        print(\"None\")"
   ]
  },
  {
   "cell_type": "code",
   "execution_count": null,
   "id": "8d1787e2",
   "metadata": {},
   "outputs": [],
   "source": []
  }
 ],
 "metadata": {
  "kernelspec": {
   "display_name": "Python 3",
   "language": "python",
   "name": "python3"
  },
  "language_info": {
   "codemirror_mode": {
    "name": "ipython",
    "version": 3
   },
   "file_extension": ".py",
   "mimetype": "text/x-python",
   "name": "python",
   "nbconvert_exporter": "python",
   "pygments_lexer": "ipython3",
   "version": "3.8.8"
  }
 },
 "nbformat": 4,
 "nbformat_minor": 5
}
