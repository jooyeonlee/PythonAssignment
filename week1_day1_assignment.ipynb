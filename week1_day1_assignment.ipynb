{
 "cells": [
  {
   "cell_type": "markdown",
   "id": "b1106df7",
   "metadata": {},
   "source": [
    "## Exercise #1 <br>\n",
    "<p>Cube Number Test... Print out all cubed numbers up to the total value 1000. Meaning that if the cubed number is over 1000 break the loop.</p>"
   ]
  },
  {
   "cell_type": "code",
   "execution_count": 6,
   "id": "b72611f1",
   "metadata": {},
   "outputs": [
    {
     "name": "stdout",
     "output_type": "stream",
     "text": [
      "[1, 8, 27, 64, 125, 216, 343, 512, 729, 1000]\n"
     ]
    }
   ],
   "source": [
    "cube_list = []\n",
    "cube_num = 0\n",
    "num = 1\n",
    "\n",
    "while cube_num < 1001:\n",
    "    cube_num = num**3\n",
    "    if cube_num < 1001:\n",
    "        cube_list.append(cube_num)\n",
    "    num += 1\n",
    "    \n",
    "print(cube_list)\n",
    "    "
   ]
  },
  {
   "cell_type": "markdown",
   "id": "c30c0fdb",
   "metadata": {},
   "source": [
    "## Exercise #2 <br>\n",
    "<p>Get first prime numbers up to 100</p>"
   ]
  },
  {
   "cell_type": "code",
   "execution_count": 4,
   "id": "982709f6",
   "metadata": {},
   "outputs": [
    {
     "name": "stdout",
     "output_type": "stream",
     "text": [
      "[2, 3, 5, 7, 11, 13, 17, 19, 23, 29, 31, 37, 41, 43, 47, 53, 59, 61, 67, 71, 73, 79, 83, 89, 97, 101, 103, 107, 109, 113, 127, 131, 137, 139, 149, 151, 157, 163, 167, 173, 179, 181, 191, 193, 197, 199, 211, 223, 227, 229, 233, 239, 241, 251, 257, 263, 269, 271, 277, 281, 283, 293, 307, 311, 313, 317, 331, 337, 347, 349, 353, 359, 367, 373, 379, 383, 389, 397, 401, 409, 419, 421, 431, 433, 439, 443, 449, 457, 461, 463, 467, 479, 487, 491, 499, 503, 509, 521, 523, 541, 547]\n"
     ]
    }
   ],
   "source": [
    "prime_nums = []\n",
    "count = 0\n",
    "num1 = 2\n",
    "\n",
    "while count < 101:\n",
    "    isPrime = True\n",
    "    for num2 in range(2, num1):\n",
    "        if num1 % num2 == 0:\n",
    "            isPrime = False\n",
    "    if isPrime:\n",
    "        prime_nums.append(num1)\n",
    "        count += 1\n",
    "    num1 += 1\n",
    "\n",
    "print(prime_nums)"
   ]
  },
  {
   "cell_type": "markdown",
   "id": "8a3f5146",
   "metadata": {},
   "source": [
    "# Exercise 3 <br>\n",
    "<p>Take in a users input for their age, if they are younger than 18 print kids, if they're 18 to 65 print adults, else print seniors</p>"
   ]
  },
  {
   "cell_type": "code",
   "execution_count": 2,
   "id": "cf32f777",
   "metadata": {},
   "outputs": [
    {
     "name": "stdout",
     "output_type": "stream",
     "text": [
      "How old are you?65\n",
      "You are a 65-year-old adult\n"
     ]
    }
   ],
   "source": [
    "answer = input(\"How old are you?\")\n",
    "\n",
    "try:\n",
    "    answer = int(answer)\n",
    "    if answer < 18:\n",
    "        print(f'You are a {answer}-year-old kid')\n",
    "    elif answer >= 18 and answer <= 65:\n",
    "        print(f'You are a {answer}-year-old adult')\n",
    "    else:\n",
    "        print(f'You are a {answer}-year-oldsenior')\n",
    "except:\n",
    "    print(\"Only numbers can be entered. Please do it again\")"
   ]
  }
 ],
 "metadata": {
  "kernelspec": {
   "display_name": "Python 3",
   "language": "python",
   "name": "python3"
  },
  "language_info": {
   "codemirror_mode": {
    "name": "ipython",
    "version": 3
   },
   "file_extension": ".py",
   "mimetype": "text/x-python",
   "name": "python",
   "nbconvert_exporter": "python",
   "pygments_lexer": "ipython3",
   "version": "3.8.8"
  }
 },
 "nbformat": 4,
 "nbformat_minor": 5
}
